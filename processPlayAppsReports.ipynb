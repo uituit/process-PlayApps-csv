{
 "cells": [
  {
   "cell_type": "markdown",
   "metadata": {},
   "source": [
    "# Processing Google Play Earning Report (PlayApps_yyyymm.csv) with Pandas"
   ]
  },
  {
   "cell_type": "markdown",
   "metadata": {},
   "source": [
    "A sample of the PlayApps_yyyymm.csv is displayed below:"
   ]
  },
  {
   "cell_type": "markdown",
   "metadata": {},
   "source": [
    "| Description | Transaction Date | Transaction Time | Tax Type | Transaction Type | Refund Type | Product Title | Product id | Product Type | Sku Id | Hardware | Buyer Country | Buyer State | Buyer Postal Code | Buyer Currency | Amount (Buyer Currency) | Currency Conversion Rate | Merchant Currency | Amount (Merchant Currency) | Base Plan ID | Offer ID |\n",
    "| ----------- | ----------- | ----------- | ----------- | ----------- | ----------- | ----------- | ----------- | ----------- | ----------- | ----------- | ----------- | ----------- | ----------- | ----------- | ----------- | ----------- | ----------- | ----------- | ----------- | ----------- |\n",
    "| GPA.0000-0000-0000-00000| Mar 1, 2022 | 3:11:51 AM PST |  | Charge |  | Your product title 1 | your.product.id1 | 1 | sku_id1 |  | HK | - |  | HKD | 8.00 | 1.000000 | HKD | 8.00 |  | \n",
    "| GPA.0000-0000-0000-00000 | Mar 1, 2022 | 3:11:51 AM PST |  | Google fee |  | Your product title 1| your.product.id1 | 1 | sku_id1 |  | HK | - |  | HKD | -2.4 | 1.000000 | HKD | -2.4 |  | \n",
    "| GPA.0000-0000-0000-00001..0 | Mar 1, 2022 | 5:12:55 PM PST |  | Charge |  | Your subscription product | your.subscription.product.id | 1 | subscriptionProduct.sku |  | TH |  | 00000 | THB | 38 | 0.238720 | HKD | 9.07 |  | \n",
    "| GPA.0000-0000-0000-00001..0 | Mar 1, 2022 | 5:12:55 PM PST |  | Google fee |  | Your subscription product | your.subscription.product.id | 1 | subscriptionProduct.sku |  | TH |  | 00000 | THB | -5.7 | 0.238720 | HKD | -1.36 |  | \n",
    "| GPA.0000-0000-0000-00002..2 | Mar 2, 2022 | 11:51:15 AM PST |  | Charge |  | Your subscription product | your.subscription.product.id | 1 | subscriptionProduct.sku |  | US | CA | 00000 | USD | 1 | 7.813400 | HKD | 7.813 |  | \n",
    "| GPA.0000-0000-0000-00002..2 | Mar 2, 2022 | 11:51:15 AM PST |  | Google fee |  | Your subscription product | your.subscription.product.id | 1 | subscriptionProduct.sku |  | US | CA | 00000 | USD | -0.15 | 7.813400 | HKD | -1.17 |  | \n",
    "| GPA.0000-0000-0000-00007 | Mar 4, 2022 | 9:57:29 AM PST |  | Charge |  | Your product title 2 | your.product.id2 | 1 | sku_id2 | a71x | HK | 九龍 |  | HKD | 58.00 | 1.000000 | HKD | 58.00 |  | \n",
    "| GPA.0000-0000-0000-00007 | Mar 4, 2022 | 9:57:29 AM PST |  | Google fee |  | Your product title 2 | your.product.id2 | 1 | sku_id2 | a71x | HK | 九龍 |  | HKD | -17.40 | 1.000000 | HKD | -74.40 |  | \n",
    "| GPA.0000-0000-0000-00007 | Mar 7, 2022 | 10:26:46 PM PST |  | Charge refund | Full | Your product title 2 | your.product.id2 | 1 | sku_id2 | a71x | HK | 九龍 |  | HKD | -248.00 | 1.000000 | HKD | -58.00 |  | \n",
    "| GPA.0000-0000-0000-00007 | Mar 7, 2022 | 10:26:46 PM PST |  | Google fee refund | Full | Your product title 2 | your.product.id2 | 1 | sku_id2 | a71x | HK | 九龍 |  | HKD | 74.40 | 1.000000 | HKD | 17.40 |  | "
   ]
  },
  {
   "cell_type": "markdown",
   "metadata": {},
   "source": [
    "## Observations\n",
    "1. The table lists all transaction records, it is hard to quickly find out how many units were sold in a month;\n",
    "2. For Subscription product, a prefix \"..0\", \"..1\", \"..2\", ... can be observed; It shows how many times the subscription was renewed; It is an important indicator to deduce the \"Retention Rate\" of the app, but it's not easy to read from the table;\n",
    "\n",
    "## Aims\n",
    "1. Insert number of units at the end of the table\n",
    "2. Update the 'sku_id' to indicate subscriptions being renewed after 1-year\n",
    "3. Export the table\n",
    "\n",
    "*Note: If sales report from Apple and Google need to be processed together, the SKU needs to be standardize.*"
   ]
  },
  {
   "cell_type": "code",
   "execution_count": 25,
   "metadata": {},
   "outputs": [],
   "source": [
    "import pandas as pd\n",
    "import numpy as np\n",
    "\n",
    "# Load the csv\n",
    "playAppsPD = pd.read_csv('PlayApps_yyyymm.csv')"
   ]
  },
  {
   "cell_type": "markdown",
   "metadata": {},
   "source": [
    "## Check Transaction Type\n",
    "'Google fee' & 'Google fee refund' are not included in the calculation when checking the number of units sold."
   ]
  },
  {
   "cell_type": "code",
   "execution_count": 26,
   "metadata": {},
   "outputs": [],
   "source": [
    "def playSalesUnit(s):\n",
    "    if s['Transaction Type'] == 'Charge':\n",
    "        return 1\n",
    "    elif s['Transaction Type'] == 'Charge refund':\n",
    "        return -1\n",
    "    else:\n",
    "        return 0\n",
    "\n",
    "playAppsPD['Units'] = playAppsPD.apply(playSalesUnit, axis=1)"
   ]
  },
  {
   "cell_type": "markdown",
   "metadata": {},
   "source": [
    "## Label subscribers who stay for more than 1-year\n",
    "New subscription and subscription renewal share the same 'Sku Id'. It should be nice to identify them as 2 different Sku.\n",
    "\n",
    "*Note on 26 April 2022: Google had lowered Play Store Subscription Fee from 30% to 15% starting 21 October 2021. At the moment, the 15% commission applies to all apps transactions, whether it's pay up front/one-off purchase/subscription in the Google Play Store.*\n"
   ]
  },
  {
   "cell_type": "code",
   "execution_count": 27,
   "metadata": {},
   "outputs": [],
   "source": [
    "def playRenewCondition(s):\n",
    "    try:\n",
    "        if s['Sku Id'] == 'subscriptionProduct.sku':\n",
    "            if '..0' not in s['Description']:\n",
    "                sku = s['Sku Id'] + '_R'\n",
    "               \n",
    "        return sku\n",
    "        \n",
    "    except:\n",
    "        return s['Sku Id']\n",
    "\n",
    "playAppsPD['Sku Id'] = playAppsPD.apply(playRenewCondition, axis=1)"
   ]
  },
  {
   "cell_type": "markdown",
   "metadata": {},
   "source": [
    "## Export the processed report\n",
    "Save the report and further look into the data in your way"
   ]
  },
  {
   "cell_type": "code",
   "execution_count": 28,
   "metadata": {},
   "outputs": [],
   "source": [
    "with open('output.csv', 'w') as f:\n",
    "    playAppsPD.to_csv(f, header = True)\n"
   ]
  }
 ],
 "metadata": {
  "interpreter": {
   "hash": "aee8b7b246df8f9039afb4144a1f6fd8d2ca17a180786b69acc140d282b71a49"
  },
  "kernelspec": {
   "display_name": "Python 3.10.2 64-bit",
   "language": "python",
   "name": "python3"
  },
  "language_info": {
   "codemirror_mode": {
    "name": "ipython",
    "version": 3
   },
   "file_extension": ".py",
   "mimetype": "text/x-python",
   "name": "python",
   "nbconvert_exporter": "python",
   "pygments_lexer": "ipython3",
   "version": "3.10.2"
  },
  "orig_nbformat": 4
 },
 "nbformat": 4,
 "nbformat_minor": 2
}
